{
  "nbformat": 4,
  "nbformat_minor": 0,
  "metadata": {
    "colab": {
      "name": "SIT742Task01.ipynb",
      "version": "0.3.2",
      "provenance": [],
      "collapsed_sections": []
    },
    "kernelspec": {
      "name": "python3",
      "display_name": "Python 3"
    }
  },
  "cells": [
    {
      "metadata": {
        "id": "17VusFYO6LRj",
        "colab_type": "text"
      },
      "cell_type": "markdown",
      "source": [
        "## **SIT742: Modern Data Science**\n",
        "\n",
        "\n",
        "**(Assessment Task 01: Wine Rating Data Exploration) **\n",
        "\n",
        "---\n",
        "\n",
        "\n",
        "Student Information: \n",
        "\n",
        "Name: Mitchell John\n",
        "\n",
        "Student ID: 218518379\n",
        "\n",
        "Email: johnmi@deakin.edu.au\n",
        "\n"
      ]
    },
    {
      "metadata": {
        "id": "6pAJ0Cqz626V",
        "colab_type": "text"
      },
      "cell_type": "markdown",
      "source": [
        "# **Part 0. Data Files**\n",
        "\n",
        "**0.1 Download Data**"
      ]
    },
    {
      "metadata": {
        "id": "ANHcD-k77GAK",
        "colab_type": "code",
        "colab": {}
      },
      "cell_type": "code",
      "source": [
        "!pip install wget"
      ],
      "execution_count": 0,
      "outputs": []
    },
    {
      "metadata": {
        "id": "lfR9ASlL7LiH",
        "colab_type": "code",
        "colab": {}
      },
      "cell_type": "code",
      "source": [
        "import wget\n",
        "\n",
        "link_to_data = 'https://github.com/tulip-lab/sit742/raw/master/Assessment/2019/data/wine.json'\n",
        "DataSet = wget.download(link_to_data)\n",
        "\n",
        "link_to_data = 'https://github.com/tulip-lab/sit742/raw/master/Assessment/2019/data/stopwords.txt'\n",
        "\n",
        "DataSet = wget.download(link_to_data)\n",
        "\n",
        "Print(dataset)"
      ],
      "execution_count": 0,
      "outputs": []
    },
    {
      "metadata": {
        "id": "UQATQG0l7Mfj",
        "colab_type": "code",
        "colab": {}
      },
      "cell_type": "code",
      "source": [
        "!ls"
      ],
      "execution_count": 0,
      "outputs": []
    },
    {
      "metadata": {
        "id": "CRh0q2Y27PLz",
        "colab_type": "text"
      },
      "cell_type": "markdown",
      "source": [
        "**0.2 Load Data**"
      ]
    },
    {
      "metadata": {
        "id": "NBR6XYVY7XJ5",
        "colab_type": "code",
        "colab": {}
      },
      "cell_type": "code",
      "source": [
        "import json\n",
        "import pandas as pd\n",
        "import matplotlib.pyplot as plt"
      ],
      "execution_count": 0,
      "outputs": []
    },
    {
      "metadata": {
        "id": "XF6I2MU0Y31C",
        "colab_type": "code",
        "colab": {}
      },
      "cell_type": "code",
      "source": [
        "with open(\"wine.json\",\"r\") as f:\n",
        "  fcontent = json.load(f)"
      ],
      "execution_count": 0,
      "outputs": []
    },
    {
      "metadata": {
        "id": "A-UpL-CldGRJ",
        "colab_type": "code",
        "colab": {}
      },
      "cell_type": "code",
      "source": [
        "wine['meta']['view']"
      ],
      "execution_count": 0,
      "outputs": []
    },
    {
      "metadata": {
        "id": "DS21hpM3dQMv",
        "colab_type": "code",
        "colab": {}
      },
      "cell_type": "code",
      "source": [
        "import json\n",
        "    with open(\"wine.json\", \"w\") as outfile:\n",
        "         json.dump(wine, points, price)"
      ],
      "execution_count": 0,
      "outputs": []
    },
    {
      "metadata": {
        "id": "j4VHNifzVAoz",
        "colab_type": "text"
      },
      "cell_type": "markdown",
      "source": [
        "## **Part 1: numeric anaysis**\n",
        "**1.1 Explore the data distribution for each column.**"
      ]
    },
    {
      "metadata": {
        "id": "8QTmeGSS9No_",
        "colab_type": "code",
        "colab": {}
      },
      "cell_type": "code",
      "source": [
        "\n",
        "# you may use functions such as describe() on each attribute\n",
        "df = pd.dataframe({'categorical': pd.Categorical(['d','e','f']),\n",
        "...                    'numeric': [1, 2, 3],\n",
        "...                    'object': ['a', 'b', 'c']\n",
        "...                   })\n",
        "df.describe()\n",
        "  "
      ],
      "execution_count": 0,
      "outputs": []
    },
    {
      "metadata": {
        "id": "H-9q5h0VMILF",
        "colab_type": "text"
      },
      "cell_type": "markdown",
      "source": [
        "\n",
        "## **1.2 Find the 10 varieties of wine which receives the highest number of reviews**"
      ]
    },
    {
      "metadata": {
        "id": "3a2PV06bMN2i",
        "colab_type": "code",
        "colab": {}
      },
      "cell_type": "code",
      "source": [
        "import pandas as pd\n",
        "\n",
        "sr = pd.dataframe()\n",
        "\n",
        "print(sr)"
      ],
      "execution_count": 0,
      "outputs": []
    },
    {
      "metadata": {
        "id": "e1EkqMiWpRVY",
        "colab_type": "code",
        "colab": {}
      },
      "cell_type": "code",
      "source": [
        "sr.value_count()"
      ],
      "execution_count": 0,
      "outputs": []
    },
    {
      "metadata": {
        "id": "yHc3pjWRMVAm",
        "colab_type": "text"
      },
      "cell_type": "markdown",
      "source": [
        "### **1.3 Find varieties of wine having the average price less than 20, with the average pointsat least 90**"
      ]
    },
    {
      "metadata": {
        "id": "XKrYyqf9MaLv",
        "colab_type": "code",
        "colab": {}
      },
      "cell_type": "code",
      "source": [
        "# write your code here\n",
        "# you may use functions such as groupby()\n",
        "\n",
        "df.groupby('price')\n",
        "print df.groupby('price').filter(lambda x: len(x)>=20 : len(x)<=90)"
      ],
      "execution_count": 0,
      "outputs": []
    },
    {
      "metadata": {
        "id": "Mz2HZYd-Mc-P",
        "colab_type": "text"
      },
      "cell_type": "markdown",
      "source": [
        "### **1.4 Build statistic table**"
      ]
    },
    {
      "metadata": {
        "id": "jZmKwSJ4MjE7",
        "colab_type": "code",
        "colab": {}
      },
      "cell_type": "code",
      "source": [
        "\n",
        "df.groupby('price')\n",
        "print df.groupby('price').filter(lambda x: len(x)>=20 : len(x)<=90)"
      ],
      "execution_count": 0,
      "outputs": []
    },
    {
      "metadata": {
        "id": "zb2Wr2TvMmqU",
        "colab_type": "code",
        "colab": {}
      },
      "cell_type": "code",
      "source": [
        "import numpy as np\n",
        "\n",
        "x = np.savetct(\"statisticksbystate.csv\"), delimiter = \",\"\n",
        "x"
      ],
      "execution_count": 0,
      "outputs": []
    },
    {
      "metadata": {
        "id": "dGrj4tlFNUOj",
        "colab_type": "text"
      },
      "cell_type": "markdown",
      "source": [
        "# **Part 2. Text Analysis**\n",
        "**2.1 extract high requency words in description**"
      ]
    },
    {
      "metadata": {
        "id": "TdEmwOc4NcMY",
        "colab_type": "code",
        "colab": {}
      },
      "cell_type": "code",
      "source": [
        "import re\n",
        "import nltk\n",
        "from nltk.tokenize import RegexpTokenizer\n",
        "from nltk.probability import *\n",
        "from itertools import chain\n",
        "#from tqdm import tqdm\n",
        "import codecs"
      ],
      "execution_count": 0,
      "outputs": []
    },
    {
      "metadata": {
        "id": "ZsSkk6JnNiyZ",
        "colab_type": "code",
        "colab": {}
      },
      "cell_type": "code",
      "source": [
        "with open('stopwords.txt') as f:\n",
        "    stop_words = f.read().splitlines()\n",
        "stop_words = set(stop_words)"
      ],
      "execution_count": 0,
      "outputs": []
    },
    {
      "metadata": {
        "id": "ZCv652yUNlqh",
        "colab_type": "code",
        "colab": {}
      },
      "cell_type": "code",
      "source": [
        "tokenizer = RegexpTokenizer(r\"\\w+(?:[-']\\w+)?\")\n",
        "tokenizer.tokenize(raw)\n",
        "print (tokens)"
      ],
      "execution_count": 0,
      "outputs": []
    },
    {
      "metadata": {
        "id": "ThK_wFpdNpwF",
        "colab_type": "code",
        "colab": {}
      },
      "cell_type": "code",
      "source": [
        "\n",
        "from nltk.probability import *\n",
        "fd_1 = FreqDist(words)\n",
        "fd_1.most_common(25)\n",
        "\n",
        "fd_1.write(tabulate(table))"
      ],
      "execution_count": 0,
      "outputs": []
    },
    {
      "metadata": {
        "id": "_MGHNQG5NsTz",
        "colab_type": "code",
        "colab": {}
      },
      "cell_type": "code",
      "source": [
        "with open('top_common_words.txt', 'z') as outputfile:\n",
        "    outputfile.write(tabulate(table))"
      ],
      "execution_count": 0,
      "outputs": []
    },
    {
      "metadata": {
        "id": "mzpnTf9wNtRY",
        "colab_type": "text"
      },
      "cell_type": "markdown",
      "source": [
        "\n",
        "# **2.2 Find key words for describing Shiraz using TF-IDF**"
      ]
    },
    {
      "metadata": {
        "id": "ui8CdmXEN1Jl",
        "colab_type": "code",
        "colab": {}
      },
      "cell_type": "code",
      "source": [
        "# select 'description' from 'variety' eqaul to  'Shiraz'"
      ],
      "execution_count": 0,
      "outputs": []
    },
    {
      "metadata": {
        "id": "SXquKWzON56R",
        "colab_type": "code",
        "colab": {}
      },
      "cell_type": "code",
      "source": [
        "\n",
        "\n",
        "from sklearn.feature_extraction.text import TfidfVectorizer\n",
        "\n",
        "vectorizer = TfidfVectorizer() \n",
        "\n",
        "tfidf = TfidfVectorizer(analyzer='word', stop_words = 'english')"
      ],
      "execution_count": 0,
      "outputs": []
    },
    {
      "metadata": {
        "id": "8hW4sA5iN8dN",
        "colab_type": "code",
        "colab": {}
      },
      "cell_type": "code",
      "source": [
        "\n",
        "\n",
        "with open('key_shiraz.txt', 'w') as output file:  \n",
        "    outputfile.write(tabulate(table))"
      ],
      "execution_count": 0,
      "outputs": []
    },
    {
      "metadata": {
        "id": "XJjYaKr1Wjo6",
        "colab_type": "code",
        "colab": {}
      },
      "cell_type": "code",
      "source": [
        ""
      ],
      "execution_count": 0,
      "outputs": []
    }
  ]
}